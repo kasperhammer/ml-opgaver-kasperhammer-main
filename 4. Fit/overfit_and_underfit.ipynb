{
 "cells": [
  {
   "cell_type": "markdown",
   "metadata": {
    "id": "C9HmC2T4ld5B"
   },
   "source": [
    "# Overfit and underfit"
   ]
  },
  {
   "cell_type": "markdown",
   "metadata": {
    "id": "19rPukKZsPG6"
   },
   "source": [
    "Som altid vil koden i dette eksempel bruge `tf.keras` API'en, som du kan lære mere om i [TensorFlow Keras-guiden](https://www.tensorflow.org/guide/keras).\n",
    "\n",
    "I begge de tidligere eksempler ville modellernes nøjagtighed på valideringsdataen toppe efter at have trænet i et antal epoker og derefter stagnere eller begynde at falde.\n",
    "\n",
    "Med andre ord ville din model blive *overfitting* på træningsdataen. At lære, hvordan man håndterer overfitting, er vigtigt. Selvom det ofte er muligt at opnå høj nøjagtighed på *træningssættet*, ønsker du virkelig at udvikle modeller, der generaliserer godt til et *testssæt* (eller data, de ikke har set før).\n",
    "\n",
    "Det modsatte af overfitting er *underfitting*. Underfitting opstår, når der stadig er plads til forbedring på træningsdataen. Dette kan ske af flere årsager: Hvis modellen ikke er kraftig nok, er overreguleret eller simpelthen ikke er trænet længe nok. Dette betyder, at netværket ikke har lært de relevante mønstre i træningsdataen.\n",
    "\n",
    "Hvis du træner for længe, vil modellen dog begynde at overfitte og lære mønstre fra træningsdataen, der ikke generaliserer til testdataen. Du skal ramme en balance. At forstå, hvordan man træner i et passende antal epoker, som du vil udforske nedenfor, er en nyttig færdighed.\n",
    "\n",
    "For at forhindre overfitting er den bedste løsning at bruge mere komplet træningsdata. Datasættet bør dække det fulde spektrum af input, som modellen forventes at håndtere. Yderligere data kan kun være nyttige, hvis det dækker nye og interessante tilfælde.\n",
    "\n",
    "En model trænet på mere komplet data vil naturligt generalisere bedre. Når det ikke længere er muligt, er den næstbedste løsning at bruge teknikker som regulering. Disse pålægger begrænsninger på mængden og typen af information, din model kan gemme. Hvis et netværk kun har råd til at memorere et lille antal mønstre, vil optimeringsprocessen tvinge det til at fokusere på de mest markante mønstre, som har en bedre chance for at generalisere godt.\n",
    "\n",
    "I denne notebook vil du udforske flere almindelige regulariseringsteknikker og bruge dem til at forbedre en klassifikationsmodel.\n"
   ]
  },
  {
   "cell_type": "markdown",
   "metadata": {
    "id": "WL8UoOTmGGsL"
   },
   "source": [
    "## Setup"
   ]
  },
  {
   "cell_type": "markdown",
   "metadata": {
    "id": "9FklhSI0Gg9R"
   },
   "source": [
    "Før vi starter, skal vi selvfølgelig importere de nødvendige pakker:"
   ]
  },
  {
   "cell_type": "code",
   "execution_count": null,
   "metadata": {
    "execution": {
     "iopub.execute_input": "2023-07-27T04:56:30.789356Z",
     "iopub.status.busy": "2023-07-27T04:56:30.789154Z",
     "iopub.status.idle": "2023-07-27T04:56:32.955999Z",
     "shell.execute_reply": "2023-07-27T04:56:32.955268Z"
    },
    "id": "5pZ8A2liqvgk"
   },
   "outputs": [],
   "source": [
    "import tensorflow as tf\n",
    "\n",
    "from tensorflow.keras import layers\n",
    "from tensorflow.keras import regularizers\n",
    "\n",
    "print(tf.__version__)"
   ]
  },
  {
   "cell_type": "code",
   "execution_count": null,
   "metadata": {
    "execution": {
     "iopub.execute_input": "2023-07-27T04:56:32.994278Z",
     "iopub.status.busy": "2023-07-27T04:56:32.993816Z",
     "iopub.status.idle": "2023-07-27T04:56:38.829779Z",
     "shell.execute_reply": "2023-07-27T04:56:38.829065Z"
    },
    "id": "QnAtAjqRYVXe"
   },
   "outputs": [],
   "source": [
    "!pip install git+https://github.com/tensorflow/docs\n",
    "\n",
    "import tensorflow_docs as tfdocs\n",
    "import tensorflow_docs.modeling\n",
    "import tensorflow_docs.plots"
   ]
  },
  {
   "cell_type": "code",
   "execution_count": 5,
   "metadata": {
    "execution": {
     "iopub.execute_input": "2023-07-27T04:56:38.833395Z",
     "iopub.status.busy": "2023-07-27T04:56:38.833161Z",
     "iopub.status.idle": "2023-07-27T04:56:38.836725Z",
     "shell.execute_reply": "2023-07-27T04:56:38.836145Z"
    },
    "id": "-pnOU-ctX27Q"
   },
   "outputs": [],
   "source": [
    "from  IPython import display\n",
    "from matplotlib import pyplot as plt\n",
    "\n",
    "import numpy as np\n",
    "\n",
    "import pathlib\n",
    "import shutil\n",
    "import tempfile\n"
   ]
  },
  {
   "cell_type": "code",
   "execution_count": 6,
   "metadata": {
    "execution": {
     "iopub.execute_input": "2023-07-27T04:56:38.839306Z",
     "iopub.status.busy": "2023-07-27T04:56:38.839093Z",
     "iopub.status.idle": "2023-07-27T04:56:38.842443Z",
     "shell.execute_reply": "2023-07-27T04:56:38.841874Z"
    },
    "id": "jj6I4dvTtbUe"
   },
   "outputs": [],
   "source": [
    "logdir = pathlib.Path(tempfile.mkdtemp())/\"tensorboard_logs\"\n",
    "shutil.rmtree(logdir, ignore_errors=True)"
   ]
  },
  {
   "cell_type": "markdown",
   "metadata": {
    "id": "1cweoTiruj8O"
   },
   "source": [
    "## Higgs-datasættet\n",
    "\n",
    "Målet med denne vejledning er ikke at beskæftige sig med partikelfysik, så lad være med at dvæle ved detaljerne i datasættet. Det indeholder 11.000.000 eksempler, hver med 28 funktioner og en binær klasseetiket.\n"
   ]
  },
  {
   "cell_type": "code",
   "execution_count": null,
   "metadata": {
    "execution": {
     "iopub.execute_input": "2023-07-27T04:56:38.845366Z",
     "iopub.status.busy": "2023-07-27T04:56:38.845124Z",
     "iopub.status.idle": "2023-07-27T05:03:49.644455Z",
     "shell.execute_reply": "2023-07-27T05:03:49.643805Z"
    },
    "id": "YPjAvwb-6dFd"
   },
   "outputs": [],
   "source": [
    "gz = tf.keras.utils.get_file('HIGGS.csv.gz', 'http://mlphysics.ics.uci.edu/data/higgs/HIGGS.csv.gz')"
   ]
  },
  {
   "cell_type": "code",
   "execution_count": 8,
   "metadata": {
    "execution": {
     "iopub.execute_input": "2023-07-27T05:03:49.647870Z",
     "iopub.status.busy": "2023-07-27T05:03:49.647619Z",
     "iopub.status.idle": "2023-07-27T05:03:49.651040Z",
     "shell.execute_reply": "2023-07-27T05:03:49.650363Z"
    },
    "id": "AkiyUdaWIrww"
   },
   "outputs": [],
   "source": [
    "FEATURES = 28"
   ]
  },
  {
   "cell_type": "markdown",
   "metadata": {
    "id": "SFggl9gYKKRJ"
   },
   "source": [
    "The `tf.data.experimental.CsvDataset` class can be used to read csv records directly from a gzip file with no intermediate decompression step."
   ]
  },
  {
   "cell_type": "code",
   "execution_count": 9,
   "metadata": {
    "execution": {
     "iopub.execute_input": "2023-07-27T05:03:49.654053Z",
     "iopub.status.busy": "2023-07-27T05:03:49.653823Z",
     "iopub.status.idle": "2023-07-27T05:03:53.026342Z",
     "shell.execute_reply": "2023-07-27T05:03:53.025578Z"
    },
    "id": "QHz4sLVQEVIU"
   },
   "outputs": [],
   "source": [
    "ds = tf.data.experimental.CsvDataset(gz,[float(),]*(FEATURES+1), compression_type=\"GZIP\")"
   ]
  },
  {
   "cell_type": "markdown",
   "metadata": {
    "id": "HzahEELTKlSV"
   },
   "source": [
    "Den CSV-læserklasse returnerer en liste af skalartal for hvert opslag. Den følgende funktion pakker denne liste af skalartal om til et par *(funktionsvektor, mærkat)*.\n"
   ]
  },
  {
   "cell_type": "code",
   "execution_count": 10,
   "metadata": {
    "execution": {
     "iopub.execute_input": "2023-07-27T05:03:53.029743Z",
     "iopub.status.busy": "2023-07-27T05:03:53.029483Z",
     "iopub.status.idle": "2023-07-27T05:03:53.033202Z",
     "shell.execute_reply": "2023-07-27T05:03:53.032635Z"
    },
    "id": "zPD6ICDlF6Wf"
   },
   "outputs": [],
   "source": [
    "def pack_row(*row):\n",
    "  label = row[0]\n",
    "  features = tf.stack(row[1:],1)\n",
    "  return features, label"
   ]
  },
  {
   "cell_type": "markdown",
   "metadata": {
    "id": "4oa8tLuwLsbO"
   },
   "source": [
    "TensorFlow er mest effektiv, når det arbejder med store grupper af data ad gangen.\n",
    "\n",
    "Så i stedet for at pakke hver række individuelt, opret en ny `tf.data.Dataset`, der tager grupper af 10.000 eksempler, anvender funktionen `pack_row` på hver gruppe og deler derefter grupperne op i individuelle poster igen:\n"
   ]
  },
  {
   "cell_type": "code",
   "execution_count": 11,
   "metadata": {
    "execution": {
     "iopub.execute_input": "2023-07-27T05:03:53.036069Z",
     "iopub.status.busy": "2023-07-27T05:03:53.035857Z",
     "iopub.status.idle": "2023-07-27T05:03:53.096584Z",
     "shell.execute_reply": "2023-07-27T05:03:53.096019Z"
    },
    "id": "-w-VHTwwGVoZ"
   },
   "outputs": [],
   "source": [
    "packed_ds = ds.batch(10000).map(pack_row).unbatch()"
   ]
  },
  {
   "cell_type": "markdown",
   "metadata": {
    "id": "lUbxc5bxNSXV"
   },
   "source": [
    "Inspicer nogle af posterne fra dette nye `packed_ds`.\n",
    "\n",
    "Funktionerne er ikke perfekt normaliserede, men det er tilstrækkeligt for denne vejledning.\n"
   ]
  },
  {
   "cell_type": "code",
   "execution_count": null,
   "metadata": {
    "execution": {
     "iopub.execute_input": "2023-07-27T05:03:53.099933Z",
     "iopub.status.busy": "2023-07-27T05:03:53.099637Z",
     "iopub.status.idle": "2023-07-27T05:03:57.803271Z",
     "shell.execute_reply": "2023-07-27T05:03:57.802564Z"
    },
    "id": "TfcXuv33Fvka"
   },
   "outputs": [],
   "source": [
    "for features,label in packed_ds.batch(1000).take(1):\n",
    "  print(features[0])\n",
    "  plt.hist(features.numpy().flatten(), bins = 101)"
   ]
  },
  {
   "cell_type": "markdown",
   "metadata": {
    "id": "ICKZRY7gN-QM"
   },
   "source": [
    "For at holde denne vejledning relativt kort, brug kun de første 1.000 prøver til validering og de næste 10.000 til træning:"
   ]
  },
  {
   "cell_type": "code",
   "execution_count": 13,
   "metadata": {
    "execution": {
     "iopub.execute_input": "2023-07-27T05:03:57.806736Z",
     "iopub.status.busy": "2023-07-27T05:03:57.806497Z",
     "iopub.status.idle": "2023-07-27T05:03:57.810257Z",
     "shell.execute_reply": "2023-07-27T05:03:57.809636Z"
    },
    "id": "hmk49OqZIFZP"
   },
   "outputs": [],
   "source": [
    "N_VALIDATION = int(1e3)\n",
    "N_TRAIN = int(1e4)\n",
    "BUFFER_SIZE = int(1e4)\n",
    "BATCH_SIZE = 500\n",
    "STEPS_PER_EPOCH = N_TRAIN//BATCH_SIZE"
   ]
  },
  {
   "cell_type": "markdown",
   "metadata": {
    "id": "FP3M9DmvON32"
   },
   "source": [
    "Metoderne `Dataset.skip` og `Dataset.take` gør dette nemt.\n",
    "\n",
    "Samtidig skal du bruge metoden `Dataset.cache` for at sikre, at indlæseren ikke behøver at læse dataene fra filen igen i hvert epoch:"
   ]
  },
  {
   "cell_type": "code",
   "execution_count": 14,
   "metadata": {
    "execution": {
     "iopub.execute_input": "2023-07-27T05:03:57.813107Z",
     "iopub.status.busy": "2023-07-27T05:03:57.812874Z",
     "iopub.status.idle": "2023-07-27T05:03:57.821846Z",
     "shell.execute_reply": "2023-07-27T05:03:57.821236Z"
    },
    "id": "H8H_ZzpBOOk-"
   },
   "outputs": [],
   "source": [
    "validate_ds = packed_ds.take(N_VALIDATION).cache()\n",
    "train_ds = packed_ds.skip(N_VALIDATION).take(N_TRAIN).cache()"
   ]
  },
  {
   "cell_type": "code",
   "execution_count": null,
   "metadata": {
    "execution": {
     "iopub.execute_input": "2023-07-27T05:03:57.824996Z",
     "iopub.status.busy": "2023-07-27T05:03:57.824427Z",
     "iopub.status.idle": "2023-07-27T05:03:57.828949Z",
     "shell.execute_reply": "2023-07-27T05:03:57.828380Z"
    },
    "id": "9zAOqk2_Px7K"
   },
   "outputs": [],
   "source": [
    "train_ds"
   ]
  },
  {
   "cell_type": "markdown",
   "metadata": {
    "id": "6PMliHoVO3OL"
   },
   "source": [
    "Disse datasæt returnerer individuelle eksempler. Brug metoden `Dataset.batch` til at oprette batcher af en passende størrelse til træning. Inden du opretter batchene, skal du også huske at bruge `Dataset.shuffle` og `Dataset.repeat` på træningssættet:"
   ]
  },
  {
   "cell_type": "code",
   "execution_count": 16,
   "metadata": {
    "execution": {
     "iopub.execute_input": "2023-07-27T05:03:57.831738Z",
     "iopub.status.busy": "2023-07-27T05:03:57.831502Z",
     "iopub.status.idle": "2023-07-27T05:03:57.839438Z",
     "shell.execute_reply": "2023-07-27T05:03:57.838871Z"
    },
    "id": "Y7I4J355O223"
   },
   "outputs": [],
   "source": [
    "validate_ds = validate_ds.batch(BATCH_SIZE)\n",
    "train_ds = train_ds.shuffle(BUFFER_SIZE).repeat().batch(BATCH_SIZE)"
   ]
  },
  {
   "cell_type": "markdown",
   "metadata": {
    "id": "lglk41MwvU5o"
   },
   "source": [
    "## Demonstrer overfitting\n",
    "\n",
    "Den enkleste måde at forhindre overfitting på er at starte med en lille model: En model med et lille antal læringsparametre (som bestemmes af antallet af lag og antallet af enheder pr. lag). I dyb læring refereres antallet af læringsparametre i en model ofte til som modellens \"kapacitet\".\n",
    "\n",
    "Intuitivt vil en model med flere parametre have mere \"memoriseringskapacitet\" og vil derfor nemt kunne lære en perfekt ordbogslignende sammenkobling mellem træningsprøver og deres mål, en sammenkobling uden nogen generaliseringskraft, men dette ville være ubrugeligt, når der skal træffes forudsigelser på tidligere usete data.\n",
    "\n",
    "Husk altid dette: dyb læring-modeller har tendens til at være gode til at tilpasse sig træningsdataene, men den egentlige udfordring er generalisering, ikke tilpasning.\n",
    "\n",
    "På den anden side, hvis netværket har begrænsede hukommelsesressourcer, vil det ikke være i stand til at lære sammenkoblingen lige så nemt. For at minimere sin fejl vil det skulle lære komprimerede repræsentationer, der har mere forudsigelseskraft. Samtidig, hvis du gør din model for lille, vil den have svært ved at tilpasse sig træningsdataene. Der er en balance mellem \"for meget kapacitet\" og \"ikke nok kapacitet\".\n",
    "\n",
    "Desværre er der ingen magisk formel til at bestemme den rigtige størrelse eller arkitektur for din model (i form af antallet af lag eller den rigtige størrelse for hvert lag). Du bliver nødt til at eksperimentere med en række forskellige arkitekturer.\n",
    "\n",
    "For at finde en passende modelstørrelse er det bedst at starte med relativt få lag og parametre og derefter begynde at øge størrelsen på lagene eller tilføje nye lag, indtil du ser aftagende afkast på valideringstabene.\n",
    "\n",
    "Start med en simpel model ved kun at bruge tæt-forbundne lag (`tf.keras.layers.Dense`) som grundlag og opret derefter større modeller og sammenlign dem."
   ]
  },
  {
   "cell_type": "markdown",
   "metadata": {
    "id": "_ReKHdC2EgVu"
   },
   "source": [
    "### Træningsprocedure"
   ]
  },
  {
   "cell_type": "markdown",
   "metadata": {
    "id": "pNzkSkkXSP5l"
   },
   "source": [
    "Mange modeller trænes bedre, hvis du gradvist reducerer indlæringshastigheden under træningen. Brug `tf.keras.optimizers.schedules` til at reducere indlæringshastigheden over tid:"
   ]
  },
  {
   "cell_type": "code",
   "execution_count": 17,
   "metadata": {
    "execution": {
     "iopub.execute_input": "2023-07-27T05:03:57.843110Z",
     "iopub.status.busy": "2023-07-27T05:03:57.842538Z",
     "iopub.status.idle": "2023-07-27T05:03:57.846122Z",
     "shell.execute_reply": "2023-07-27T05:03:57.845532Z"
    },
    "id": "LwQp-ERhAD6F"
   },
   "outputs": [],
   "source": [
    "lr_schedule = tf.keras.optimizers.schedules.InverseTimeDecay(\n",
    "  0.001,\n",
    "  decay_steps=STEPS_PER_EPOCH*1000,\n",
    "  decay_rate=1,\n",
    "  staircase=False)\n",
    "\n",
    "def get_optimizer():\n",
    "  return tf.keras.optimizers.Adam(lr_schedule)"
   ]
  },
  {
   "cell_type": "markdown",
   "metadata": {
    "id": "kANLx6OYTQ8B"
   },
   "source": [
    "The code above sets a `tf.keras.optimizers.schedules.InverseTimeDecay` to hyperbolically decrease the learning rate to 1/2 of the base rate at 1,000 epochs, 1/3 at 2,000 epochs, and so on."
   ]
  },
  {
   "cell_type": "code",
   "execution_count": null,
   "metadata": {
    "execution": {
     "iopub.execute_input": "2023-07-27T05:03:57.848896Z",
     "iopub.status.busy": "2023-07-27T05:03:57.848687Z",
     "iopub.status.idle": "2023-07-27T05:03:58.007399Z",
     "shell.execute_reply": "2023-07-27T05:03:58.006750Z"
    },
    "id": "HIo_yPjEAFgn"
   },
   "outputs": [],
   "source": [
    "step = np.linspace(0,100000)\n",
    "lr = lr_schedule(step)\n",
    "plt.figure(figsize = (8,6))\n",
    "plt.plot(step/STEPS_PER_EPOCH, lr)\n",
    "plt.ylim([0,max(plt.ylim())])\n",
    "plt.xlabel('Epoch')\n",
    "_ = plt.ylabel('Learning Rate')\n"
   ]
  },
  {
   "cell_type": "markdown",
   "metadata": {
    "id": "ya7x7gr9UjU0"
   },
   "source": [
    "Each model in this tutorial will use the same training configuration. So set these up in a reusable way, starting with the list of callbacks.\n",
    "\n",
    "The training for this tutorial runs for many short epochs. To reduce the logging noise use the `tfdocs.EpochDots` which simply prints a `.` for each epoch, and a full set of metrics every 100 epochs.\n",
    "\n",
    "Next include `tf.keras.callbacks.EarlyStopping` to avoid long and unnecessary training times. Note that this callback is set to monitor the `val_binary_crossentropy`, not the `val_loss`. This difference will be important later.\n",
    "\n",
    "Use `callbacks.TensorBoard` to generate TensorBoard logs for the training.\n"
   ]
  },
  {
   "cell_type": "code",
   "execution_count": 19,
   "metadata": {
    "execution": {
     "iopub.execute_input": "2023-07-27T05:03:58.011040Z",
     "iopub.status.busy": "2023-07-27T05:03:58.010299Z",
     "iopub.status.idle": "2023-07-27T05:03:58.014213Z",
     "shell.execute_reply": "2023-07-27T05:03:58.013644Z"
    },
    "id": "vSv8rfw_T85n"
   },
   "outputs": [],
   "source": [
    "def get_callbacks(name):\n",
    "  return [\n",
    "    tfdocs.modeling.EpochDots(),\n",
    "    tf.keras.callbacks.EarlyStopping(monitor='val_binary_crossentropy', patience=200),\n",
    "    tf.keras.callbacks.TensorBoard(logdir/name),\n",
    "  ]"
   ]
  },
  {
   "cell_type": "markdown",
   "metadata": {
    "id": "VhctzKhBWVDD"
   },
   "source": [
    "Similarly each model will use the same `Model.compile` and `Model.fit` settings:"
   ]
  },
  {
   "cell_type": "code",
   "execution_count": 20,
   "metadata": {
    "execution": {
     "iopub.execute_input": "2023-07-27T05:03:58.017093Z",
     "iopub.status.busy": "2023-07-27T05:03:58.016871Z",
     "iopub.status.idle": "2023-07-27T05:03:58.021839Z",
     "shell.execute_reply": "2023-07-27T05:03:58.021209Z"
    },
    "id": "xRCGwU3YH5sT"
   },
   "outputs": [],
   "source": [
    "def compile_and_fit(model, name, optimizer=None, max_epochs=10000):\n",
    "  if optimizer is None:\n",
    "    optimizer = get_optimizer()\n",
    "  model.compile(optimizer=optimizer,\n",
    "                loss=tf.keras.losses.BinaryCrossentropy(from_logits=True),\n",
    "                metrics=[\n",
    "                  tf.keras.metrics.BinaryCrossentropy(\n",
    "                      from_logits=True, name='binary_crossentropy'),\n",
    "                  'accuracy'])\n",
    "\n",
    "  model.summary()\n",
    "\n",
    "  history = model.fit(\n",
    "    train_ds,\n",
    "    steps_per_epoch = STEPS_PER_EPOCH,\n",
    "    epochs=max_epochs,\n",
    "    validation_data=validate_ds,\n",
    "    callbacks=get_callbacks(name),\n",
    "    verbose=0)\n",
    "  return history"
   ]
  },
  {
   "cell_type": "markdown",
   "metadata": {
    "id": "mxBeiLUiWHJV"
   },
   "source": [
    "### Tiny model"
   ]
  },
  {
   "cell_type": "markdown",
   "metadata": {
    "id": "a6JDv12scLTI"
   },
   "source": [
    "Start by training a model:"
   ]
  },
  {
   "cell_type": "code",
   "execution_count": 21,
   "metadata": {
    "execution": {
     "iopub.execute_input": "2023-07-27T05:03:58.025195Z",
     "iopub.status.busy": "2023-07-27T05:03:58.024603Z",
     "iopub.status.idle": "2023-07-27T05:03:58.068796Z",
     "shell.execute_reply": "2023-07-27T05:03:58.068149Z"
    },
    "id": "EZh-QFjKHb70"
   },
   "outputs": [],
   "source": [
    "tiny_model = tf.keras.Sequential([\n",
    "    layers.Dense(16, activation='elu', input_shape=(FEATURES,)),\n",
    "    layers.Dense(1)\n",
    "])"
   ]
  },
  {
   "cell_type": "code",
   "execution_count": 22,
   "metadata": {
    "execution": {
     "iopub.execute_input": "2023-07-27T05:03:58.071705Z",
     "iopub.status.busy": "2023-07-27T05:03:58.071491Z",
     "iopub.status.idle": "2023-07-27T05:03:58.074418Z",
     "shell.execute_reply": "2023-07-27T05:03:58.073838Z"
    },
    "id": "X72IUdWYipIS"
   },
   "outputs": [],
   "source": [
    "size_histories = {}"
   ]
  },
  {
   "cell_type": "code",
   "execution_count": null,
   "metadata": {
    "execution": {
     "iopub.execute_input": "2023-07-27T05:03:58.077399Z",
     "iopub.status.busy": "2023-07-27T05:03:58.077176Z",
     "iopub.status.idle": "2023-07-27T05:05:20.481569Z",
     "shell.execute_reply": "2023-07-27T05:05:20.480886Z"
    },
    "id": "bdOcJtPGHhJ5"
   },
   "outputs": [],
   "source": [
    "size_histories['Tiny'] = compile_and_fit(tiny_model, 'sizes/Tiny')"
   ]
  },
  {
   "cell_type": "markdown",
   "metadata": {
    "id": "rS_QGT6icwdI"
   },
   "source": [
    "Now check how the model did:"
   ]
  },
  {
   "cell_type": "code",
   "execution_count": null,
   "metadata": {
    "execution": {
     "iopub.execute_input": "2023-07-27T05:05:20.485408Z",
     "iopub.status.busy": "2023-07-27T05:05:20.485141Z",
     "iopub.status.idle": "2023-07-27T05:05:20.682157Z",
     "shell.execute_reply": "2023-07-27T05:05:20.681554Z"
    },
    "id": "dkEvb2x5XsjE"
   },
   "outputs": [],
   "source": [
    "plotter = tfdocs.plots.HistoryPlotter(metric = 'binary_crossentropy', smoothing_std=10)\n",
    "plotter.plot(size_histories)\n",
    "plt.ylim([0.5, 0.7])"
   ]
  },
  {
   "cell_type": "markdown",
   "metadata": {
    "id": "LGxGzh_FWOJ8"
   },
   "source": [
    "### Small model"
   ]
  },
  {
   "cell_type": "markdown",
   "metadata": {
    "id": "YjMb6E72f2pN"
   },
   "source": [
    "To check if you can beat the performance of the small model, progressively train some larger models.\n",
    "\n",
    "Try two hidden layers with 16 units each:"
   ]
  },
  {
   "cell_type": "code",
   "execution_count": 25,
   "metadata": {
    "execution": {
     "iopub.execute_input": "2023-07-27T05:05:20.685585Z",
     "iopub.status.busy": "2023-07-27T05:05:20.685336Z",
     "iopub.status.idle": "2023-07-27T05:05:20.718892Z",
     "shell.execute_reply": "2023-07-27T05:05:20.718266Z"
    },
    "id": "QKgdXPx9usBa"
   },
   "outputs": [],
   "source": [
    "small_model = tf.keras.Sequential([\n",
    "    # `input_shape` is only required here so that `.summary` works.\n",
    "    layers.Dense(16, activation='elu', input_shape=(FEATURES,)),\n",
    "    layers.Dense(16, activation='elu'),\n",
    "    layers.Dense(1)\n",
    "])"
   ]
  },
  {
   "cell_type": "code",
   "execution_count": null,
   "metadata": {
    "execution": {
     "iopub.execute_input": "2023-07-27T05:05:20.721939Z",
     "iopub.status.busy": "2023-07-27T05:05:20.721715Z",
     "iopub.status.idle": "2023-07-27T05:06:15.878228Z",
     "shell.execute_reply": "2023-07-27T05:06:15.877579Z"
    },
    "id": "LqG3MXF5xSjR"
   },
   "outputs": [],
   "source": [
    "size_histories['Small'] = compile_and_fit(small_model, 'sizes/Small')"
   ]
  },
  {
   "cell_type": "markdown",
   "metadata": {
    "id": "L-DGRBbGxI6G"
   },
   "source": [
    "### Medium model"
   ]
  },
  {
   "cell_type": "markdown",
   "metadata": {
    "id": "SrfoVQheYSO5"
   },
   "source": [
    "Now try three hidden layers with 64 units each:"
   ]
  },
  {
   "cell_type": "code",
   "execution_count": 27,
   "metadata": {
    "execution": {
     "iopub.execute_input": "2023-07-27T05:06:15.881925Z",
     "iopub.status.busy": "2023-07-27T05:06:15.881624Z",
     "iopub.status.idle": "2023-07-27T05:06:15.930550Z",
     "shell.execute_reply": "2023-07-27T05:06:15.929918Z"
    },
    "id": "jksi-XtaxDAh"
   },
   "outputs": [],
   "source": [
    "medium_model = tf.keras.Sequential([\n",
    "    layers.Dense(64, activation='elu', input_shape=(FEATURES,)),\n",
    "    layers.Dense(64, activation='elu'),\n",
    "    layers.Dense(64, activation='elu'),\n",
    "    layers.Dense(1)\n",
    "])"
   ]
  },
  {
   "cell_type": "markdown",
   "metadata": {
    "id": "jbngCZliYdma"
   },
   "source": [
    "And train the model using the same data:"
   ]
  },
  {
   "cell_type": "code",
   "execution_count": null,
   "metadata": {
    "execution": {
     "iopub.execute_input": "2023-07-27T05:06:15.933981Z",
     "iopub.status.busy": "2023-07-27T05:06:15.933760Z",
     "iopub.status.idle": "2023-07-27T05:06:38.828298Z",
     "shell.execute_reply": "2023-07-27T05:06:38.827616Z"
    },
    "id": "Ofn1AwDhx-Fe"
   },
   "outputs": [],
   "source": [
    "size_histories['Medium']  = compile_and_fit(medium_model, \"sizes/Medium\")"
   ]
  },
  {
   "cell_type": "markdown",
   "metadata": {
    "id": "vIPuf23FFaVn"
   },
   "source": [
    "### Large model\n",
    "\n",
    "As an exercise, you can create an even larger model and check how quickly it begins overfitting. Next, add to this benchmark a network that has much more capacity, far more than the problem would warrant:"
   ]
  },
  {
   "cell_type": "code",
   "execution_count": 29,
   "metadata": {
    "execution": {
     "iopub.execute_input": "2023-07-27T05:06:38.831972Z",
     "iopub.status.busy": "2023-07-27T05:06:38.831709Z",
     "iopub.status.idle": "2023-07-27T05:06:38.888673Z",
     "shell.execute_reply": "2023-07-27T05:06:38.888075Z"
    },
    "id": "ghQwwqwqvQM9"
   },
   "outputs": [],
   "source": [
    "large_model = tf.keras.Sequential([\n",
    "    layers.Dense(512, activation='elu', input_shape=(FEATURES,)),\n",
    "    layers.Dense(512, activation='elu'),\n",
    "    layers.Dense(512, activation='elu'),\n",
    "    layers.Dense(512, activation='elu'),\n",
    "    layers.Dense(1)\n",
    "])"
   ]
  },
  {
   "cell_type": "markdown",
   "metadata": {
    "id": "D-d-i5DaYmr7"
   },
   "source": [
    "And, again, train the model using the same data:"
   ]
  },
  {
   "cell_type": "code",
   "execution_count": null,
   "metadata": {
    "execution": {
     "iopub.execute_input": "2023-07-27T05:06:38.891927Z",
     "iopub.status.busy": "2023-07-27T05:06:38.891502Z",
     "iopub.status.idle": "2023-07-27T05:06:58.681255Z",
     "shell.execute_reply": "2023-07-27T05:06:58.680572Z"
    },
    "id": "U1A99dhqvepf"
   },
   "outputs": [],
   "source": [
    "size_histories['large'] = compile_and_fit(large_model, \"sizes/large\")"
   ]
  },
  {
   "cell_type": "markdown",
   "metadata": {
    "id": "Fy3CMUZpzH3d"
   },
   "source": [
    "### Plot the training and validation losses"
   ]
  },
  {
   "cell_type": "markdown",
   "metadata": {
    "id": "HSlo1F4xHuuM"
   },
   "source": [
    "The solid lines show the training loss, and the dashed lines show the validation loss (remember: a lower validation loss indicates a better model)."
   ]
  },
  {
   "cell_type": "markdown",
   "metadata": {
    "id": "OLhL1AszdLfM"
   },
   "source": [
    "While building a larger model gives it more power, if this power is not constrained somehow it can easily overfit to the training set.\n",
    "\n",
    "In this example, typically, only the `\"Tiny\"` model manages to avoid overfitting altogether, and each of the larger models overfit the data more quickly. This becomes so severe for the `\"large\"` model that you need to switch the plot to a log-scale to really figure out what's happening.\n",
    "\n",
    "This is apparent if you plot and compare the validation metrics to the training metrics.\n",
    "\n",
    "* It's normal for there to be a small difference.\n",
    "* If both metrics are moving in the same direction, everything is fine.\n",
    "* If the validation metric begins to stagnate while the training metric continues to improve, you are probably close to overfitting.\n",
    "* If the validation metric is going in the wrong direction, the model is clearly overfitting."
   ]
  },
  {
   "cell_type": "code",
   "execution_count": null,
   "metadata": {
    "execution": {
     "iopub.execute_input": "2023-07-27T05:06:58.685557Z",
     "iopub.status.busy": "2023-07-27T05:06:58.684987Z",
     "iopub.status.idle": "2023-07-27T05:06:59.164006Z",
     "shell.execute_reply": "2023-07-27T05:06:59.163310Z"
    },
    "id": "0XmKDtOWzOpk"
   },
   "outputs": [],
   "source": [
    "plotter.plot(size_histories)\n",
    "a = plt.xscale('log')\n",
    "plt.xlim([5, max(plt.xlim())])\n",
    "plt.ylim([0.5, 0.7])\n",
    "plt.xlabel(\"Epochs [Log Scale]\")"
   ]
  },
  {
   "cell_type": "markdown",
   "metadata": {
    "id": "UekcaQdmZxnW"
   },
   "source": [
    "Note: All the above training runs used the `callbacks.EarlyStopping` to end the training once it was clear the model was not making progress."
   ]
  },
  {
   "cell_type": "markdown",
   "metadata": {
    "id": "DEQNKadHA0M3"
   },
   "source": [
    "### View in TensorBoard\n",
    "\n",
    "These models all wrote TensorBoard logs during training.\n",
    "\n",
    "Open an embedded  TensorBoard viewer inside a notebook (Sorry, this doesn't\n",
    "display on tensorflow.org):"
   ]
  },
  {
   "cell_type": "code",
   "execution_count": null,
   "metadata": {
    "id": "6oa1lkJddZ-m"
   },
   "outputs": [],
   "source": [
    "# Load the TensorBoard notebook extension\n",
    "%load_ext tensorboard\n",
    "\n",
    "# Open an embedded TensorBoard viewer\n",
    "%tensorboard --logdir {logdir}/sizes"
   ]
  },
  {
   "cell_type": "markdown",
   "metadata": {
    "id": "HkIIzE5rBBY_"
   },
   "source": [
    "You can view the [results of a previous run](https://tensorboard.dev/experiment/vW7jmmF9TmKmy3rbheMQpw/#scalars&_smoothingWeight=0.97) of this notebook on [TensorBoard.dev](https://tensorboard.dev/)."
   ]
  },
  {
   "cell_type": "markdown",
   "metadata": {
    "id": "ASdv7nsgEFhx"
   },
   "source": [
    "## Strategies to prevent overfitting"
   ]
  },
  {
   "cell_type": "markdown",
   "metadata": {
    "id": "YN512ksslaxJ"
   },
   "source": [
    "Before getting into the content of this section copy the training logs from the `\"Tiny\"` model above, to use as a baseline for comparison."
   ]
  },
  {
   "cell_type": "code",
   "execution_count": null,
   "metadata": {
    "execution": {
     "iopub.execute_input": "2023-07-27T05:06:59.169289Z",
     "iopub.status.busy": "2023-07-27T05:06:59.168605Z",
     "iopub.status.idle": "2023-07-27T05:06:59.175087Z",
     "shell.execute_reply": "2023-07-27T05:06:59.174440Z"
    },
    "id": "40k1eBtnQzNo"
   },
   "outputs": [],
   "source": [
    "shutil.rmtree(logdir/'regularizers/Tiny', ignore_errors=True)\n",
    "shutil.copytree(logdir/'sizes/Tiny', logdir/'regularizers/Tiny')"
   ]
  },
  {
   "cell_type": "code",
   "execution_count": 33,
   "metadata": {
    "execution": {
     "iopub.execute_input": "2023-07-27T05:06:59.178558Z",
     "iopub.status.busy": "2023-07-27T05:06:59.177977Z",
     "iopub.status.idle": "2023-07-27T05:06:59.181355Z",
     "shell.execute_reply": "2023-07-27T05:06:59.180687Z"
    },
    "id": "vFWMeFo7jLpN"
   },
   "outputs": [],
   "source": [
    "regularizer_histories = {}\n",
    "regularizer_histories['Tiny'] = size_histories['Tiny']"
   ]
  },
  {
   "cell_type": "markdown",
   "metadata": {
    "id": "4rHoVWcswFLa"
   },
   "source": [
    "### Add weight regularization\n"
   ]
  },
  {
   "cell_type": "markdown",
   "metadata": {
    "id": "kRxWepNawbBK"
   },
   "source": [
    "You may be familiar with Occam's Razor principle: given two explanations for something, the explanation most likely to be correct is the \"simplest\" one, the one that makes the least amount of assumptions. This also applies to the models learned by neural networks: given some training data and a network architecture, there are multiple sets of weights values (multiple models) that could explain the data, and simpler models are less likely to overfit than complex ones.\n",
    "\n",
    "A \"simple model\" in this context is a model where the distribution of parameter values has less entropy (or a model with fewer parameters altogether, as demonstrated in the section above). Thus a common way to mitigate overfitting is to put constraints on the complexity of a network by forcing its weights only to take small values, which makes the distribution of weight values more \"regular\". This is called \"weight regularization\", and it is done by adding to the loss function of the network a cost associated with having large weights. This cost comes in two flavors:\n",
    "\n",
    "* [L1 regularization](https://developers.google.com/machine-learning/glossary/#L1_regularization), where the cost added is proportional to the absolute value of the weights coefficients (i.e. to what is called the \"L1 norm\" of the weights).\n",
    "\n",
    "* [L2 regularization](https://developers.google.com/machine-learning/glossary/#L2_regularization), where the cost added is proportional to the square of the value of the weights coefficients (i.e. to what is called the squared \"L2 norm\" of the weights). L2 regularization is also called weight decay in the context of neural networks. Don't let the different name confuse you: weight decay is mathematically the exact same as L2 regularization.\n",
    "\n",
    "L1 regularization pushes weights towards exactly zero, encouraging a sparse model. L2 regularization will penalize the weights parameters without making them sparse since the penalty goes to zero for small weights—one reason why L2 is more common.\n",
    "\n",
    "In `tf.keras`, weight regularization is added by passing weight regularizer instances to layers as keyword arguments. Add L2 weight regularization:"
   ]
  },
  {
   "cell_type": "code",
   "execution_count": null,
   "metadata": {
    "execution": {
     "iopub.execute_input": "2023-07-27T05:06:59.185008Z",
     "iopub.status.busy": "2023-07-27T05:06:59.184478Z",
     "iopub.status.idle": "2023-07-27T05:07:38.552405Z",
     "shell.execute_reply": "2023-07-27T05:07:38.551738Z"
    },
    "id": "HFGmcwduwVyQ"
   },
   "outputs": [],
   "source": [
    "l2_model = tf.keras.Sequential([\n",
    "    layers.Dense(512, activation='elu',\n",
    "                 kernel_regularizer=regularizers.l2(0.001),\n",
    "                 input_shape=(FEATURES,)),\n",
    "    layers.Dense(512, activation='elu',\n",
    "                 kernel_regularizer=regularizers.l2(0.001)),\n",
    "    layers.Dense(512, activation='elu',\n",
    "                 kernel_regularizer=regularizers.l2(0.001)),\n",
    "    layers.Dense(512, activation='elu',\n",
    "                 kernel_regularizer=regularizers.l2(0.001)),\n",
    "    layers.Dense(1)\n",
    "])\n",
    "\n",
    "regularizer_histories['l2'] = compile_and_fit(l2_model, \"regularizers/l2\")"
   ]
  },
  {
   "cell_type": "markdown",
   "metadata": {
    "id": "bUUHoXb7w-_C"
   },
   "source": [
    "`l2(0.001)` means that every coefficient in the weight matrix of the layer will add `0.001 * weight_coefficient_value**2` to the total **loss** of the network.\n",
    "\n",
    "That is why we're monitoring the `binary_crossentropy` directly. Because it doesn't have this regularization component mixed in.\n",
    "\n",
    "So, that same `\"Large\"` model with an `L2` regularization penalty performs much better:\n"
   ]
  },
  {
   "cell_type": "code",
   "execution_count": null,
   "metadata": {
    "execution": {
     "iopub.execute_input": "2023-07-27T05:07:38.555971Z",
     "iopub.status.busy": "2023-07-27T05:07:38.555710Z",
     "iopub.status.idle": "2023-07-27T05:07:38.818334Z",
     "shell.execute_reply": "2023-07-27T05:07:38.817734Z"
    },
    "id": "7wkfLyxBZdh_"
   },
   "outputs": [],
   "source": [
    "plotter.plot(regularizer_histories)\n",
    "plt.ylim([0.5, 0.7])"
   ]
  },
  {
   "cell_type": "markdown",
   "metadata": {
    "id": "Kx1YHMsVxWjP"
   },
   "source": [
    "As demonstrated in the diagram above, the `\"L2\"` regularized model is now much more competitive with the `\"Tiny\"` model. This `\"L2\"` model is also much more resistant to overfitting than the `\"Large\"` model it was based on despite having the same number of parameters."
   ]
  },
  {
   "cell_type": "markdown",
   "metadata": {
    "id": "JheBk6f8jMQ7"
   },
   "source": [
    "#### More info\n",
    "\n",
    "There are two important things to note about this sort of regularization:\n",
    "\n",
    "1. If you are writing your own training loop, then you need to be sure to ask the model for its regularization losses."
   ]
  },
  {
   "cell_type": "code",
   "execution_count": 36,
   "metadata": {
    "execution": {
     "iopub.execute_input": "2023-07-27T05:07:38.821753Z",
     "iopub.status.busy": "2023-07-27T05:07:38.821526Z",
     "iopub.status.idle": "2023-07-27T05:07:38.838032Z",
     "shell.execute_reply": "2023-07-27T05:07:38.837464Z"
    },
    "id": "apDHQNybjaML"
   },
   "outputs": [],
   "source": [
    "result = l2_model(features)\n",
    "regularization_loss=tf.add_n(l2_model.losses)"
   ]
  },
  {
   "cell_type": "markdown",
   "metadata": {
    "id": "MLhG6fMSjE-J"
   },
   "source": [
    "2. This implementation works by adding the weight penalties to the model's loss, and then applying a standard optimization procedure after that.\n",
    "\n",
    "There is a second approach that instead only runs the optimizer on the raw loss, and then while applying the calculated step the optimizer also applies some weight decay. This \"decoupled weight decay\" is used in optimizers like `tf.keras.optimizers.Ftrl` and `tfa.optimizers.AdamW`."
   ]
  },
  {
   "cell_type": "markdown",
   "metadata": {
    "id": "HmnBNOOVxiG8"
   },
   "source": [
    "### Add dropout\n",
    "\n",
    "Dropout is one of the most effective and most commonly used regularization techniques for neural networks, developed by Hinton and his students at the University of Toronto.\n",
    "\n",
    "The intuitive explanation for dropout is that because individual nodes in the network cannot rely on the output of the others, each node must output features that are useful on their own.\n",
    "\n",
    "Dropout, applied to a layer, consists of randomly \"dropping out\" (i.e. set to zero) a number of output features of the layer during training. For example, a given layer would normally have returned a vector `[0.2, 0.5, 1.3, 0.8, 1.1]` for a given input sample during training; after applying dropout, this vector will have a few zero entries distributed at random, e.g. `[0, 0.5, 1.3, 0, 1.1]`.\n",
    "\n",
    "The \"dropout rate\" is the fraction of the features that are being zeroed-out; it is usually set between 0.2 and 0.5. At test time, no units are dropped out, and instead the layer's output values are scaled down by a factor equal to the dropout rate, so as to balance for the fact that more units are active than at training time.\n",
    "\n",
    "In Keras, you can introduce dropout in a network via the `tf.keras.layers.Dropout` layer, which gets applied to the output of layer right before.\n",
    "\n",
    "Add two dropout layers to your network to check how well they do at reducing overfitting:"
   ]
  },
  {
   "cell_type": "code",
   "execution_count": null,
   "metadata": {
    "execution": {
     "iopub.execute_input": "2023-07-27T05:07:38.841188Z",
     "iopub.status.busy": "2023-07-27T05:07:38.840977Z",
     "iopub.status.idle": "2023-07-27T05:08:08.253680Z",
     "shell.execute_reply": "2023-07-27T05:08:08.253036Z"
    },
    "id": "OFEYvtrHxSWS"
   },
   "outputs": [],
   "source": [
    "dropout_model = tf.keras.Sequential([\n",
    "    layers.Dense(512, activation='elu', input_shape=(FEATURES,)),\n",
    "    layers.Dropout(0.5),\n",
    "    layers.Dense(512, activation='elu'),\n",
    "    layers.Dropout(0.5),\n",
    "    layers.Dense(512, activation='elu'),\n",
    "    layers.Dropout(0.5),\n",
    "    layers.Dense(512, activation='elu'),\n",
    "    layers.Dropout(0.5),\n",
    "    layers.Dense(1)\n",
    "])\n",
    "\n",
    "regularizer_histories['dropout'] = compile_and_fit(dropout_model, \"regularizers/dropout\")"
   ]
  },
  {
   "cell_type": "code",
   "execution_count": null,
   "metadata": {
    "execution": {
     "iopub.execute_input": "2023-07-27T05:08:08.257275Z",
     "iopub.status.busy": "2023-07-27T05:08:08.257002Z",
     "iopub.status.idle": "2023-07-27T05:08:08.491328Z",
     "shell.execute_reply": "2023-07-27T05:08:08.490686Z"
    },
    "id": "SPZqwVchx5xp"
   },
   "outputs": [],
   "source": [
    "plotter.plot(regularizer_histories)\n",
    "plt.ylim([0.5, 0.7])"
   ]
  },
  {
   "cell_type": "markdown",
   "metadata": {
    "id": "4zlHr4iaI1U6"
   },
   "source": [
    "It's clear from this plot that both of these regularization approaches improve the behavior of the `\"Large\"` model. But this still doesn't beat even the `\"Tiny\"` baseline.\n",
    "\n",
    "Next try them both, together, and see if that does better."
   ]
  },
  {
   "cell_type": "markdown",
   "metadata": {
    "id": "u7qMg_7Nwy5t"
   },
   "source": [
    "### Combined L2 + dropout"
   ]
  },
  {
   "cell_type": "code",
   "execution_count": null,
   "metadata": {
    "execution": {
     "iopub.execute_input": "2023-07-27T05:08:08.494718Z",
     "iopub.status.busy": "2023-07-27T05:08:08.494489Z",
     "iopub.status.idle": "2023-07-27T05:09:29.339955Z",
     "shell.execute_reply": "2023-07-27T05:09:29.339193Z"
    },
    "id": "7zfs_qQIw1cz"
   },
   "outputs": [],
   "source": [
    "combined_model = tf.keras.Sequential([\n",
    "    layers.Dense(512, kernel_regularizer=regularizers.l2(0.0001),\n",
    "                 activation='elu', input_shape=(FEATURES,)),\n",
    "    layers.Dropout(0.5),\n",
    "    layers.Dense(512, kernel_regularizer=regularizers.l2(0.0001),\n",
    "                 activation='elu'),\n",
    "    layers.Dropout(0.5),\n",
    "    layers.Dense(512, kernel_regularizer=regularizers.l2(0.0001),\n",
    "                 activation='elu'),\n",
    "    layers.Dropout(0.5),\n",
    "    layers.Dense(512, kernel_regularizer=regularizers.l2(0.0001),\n",
    "                 activation='elu'),\n",
    "    layers.Dropout(0.5),\n",
    "    layers.Dense(1)\n",
    "])\n",
    "\n",
    "regularizer_histories['combined'] = compile_and_fit(combined_model, \"regularizers/combined\")"
   ]
  },
  {
   "cell_type": "code",
   "execution_count": null,
   "metadata": {
    "execution": {
     "iopub.execute_input": "2023-07-27T05:09:29.343480Z",
     "iopub.status.busy": "2023-07-27T05:09:29.343227Z",
     "iopub.status.idle": "2023-07-27T05:09:29.653800Z",
     "shell.execute_reply": "2023-07-27T05:09:29.653199Z"
    },
    "id": "qDqBBxfI0Yd8"
   },
   "outputs": [],
   "source": [
    "plotter.plot(regularizer_histories)\n",
    "plt.ylim([0.5, 0.7])"
   ]
  },
  {
   "cell_type": "markdown",
   "metadata": {
    "id": "tE0OoNCQNTJv"
   },
   "source": [
    "This model with the `\"Combined\"` regularization is obviously the best one so far."
   ]
  },
  {
   "cell_type": "markdown",
   "metadata": {
    "id": "-dw23T03FEO1"
   },
   "source": [
    "### View in TensorBoard\n",
    "\n",
    "These models also recorded TensorBoard logs.\n",
    "\n",
    "To open an embedded run the following into a code-cell  (Sorry, this doesn't display on tensorflow.org):"
   ]
  },
  {
   "cell_type": "code",
   "execution_count": null,
   "metadata": {
    "id": "Op4vLqVWBK_y"
   },
   "outputs": [],
   "source": [
    "%tensorboard --logdir {logdir}/regularizers"
   ]
  },
  {
   "cell_type": "markdown",
   "metadata": {
    "id": "_rx5b294BXBd"
   },
   "source": [
    "You can view the [results of a previous run](https://tensorboard.dev/experiment/vW7jmmF9TmKmy3rbheMQpw/#scalars&_smoothingWeight=0.97) of this notebook on [TensorBoard.dev](https://tensorboard.dev/)."
   ]
  },
  {
   "cell_type": "markdown",
   "metadata": {
    "id": "uXJxtwBWIhjG"
   },
   "source": [
    "## Conclusions"
   ]
  },
  {
   "cell_type": "markdown",
   "metadata": {
    "id": "gjfnkEeQyAFG"
   },
   "source": [
    "To recap, here are the most common ways to prevent overfitting in neural networks:\n",
    "\n",
    "* Get more training data.\n",
    "* Reduce the capacity of the network.\n",
    "* Add weight regularization.\n",
    "* Add dropout.\n",
    "\n",
    "Two important approaches not covered in this guide are:\n",
    "\n",
    "* [Data augmentation](../images/data_augmentation.ipynb)\n",
    "* Batch normalization (`tf.keras.layers.BatchNormalization`)\n",
    "\n",
    "Remember that each method can help on its own, but often combining them can be even more effective."
   ]
  }
 ],
 "metadata": {
  "accelerator": "GPU",
  "colab": {
   "name": "overfit_and_underfit.ipynb",
   "provenance": [],
   "toc_visible": true
  },
  "kernelspec": {
   "display_name": "Python 3",
   "name": "python3"
  },
  "language_info": {
   "codemirror_mode": {
    "name": "ipython",
    "version": 3
   },
   "file_extension": ".py",
   "mimetype": "text/x-python",
   "name": "python",
   "nbconvert_exporter": "python",
   "pygments_lexer": "ipython3",
   "version": "3.11.7"
  }
 },
 "nbformat": 4,
 "nbformat_minor": 0
}
