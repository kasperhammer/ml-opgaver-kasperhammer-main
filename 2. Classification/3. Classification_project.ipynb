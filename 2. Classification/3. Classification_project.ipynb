{
 "cells": [
  {
   "cell_type": "markdown",
   "metadata": {},
   "source": [
    "Til afslutning kan I vælge mellem 3 forskellige projekter inden for Classification.\n",
    "1. [Handwritten Digit Recognition using Python](https://data-flair.training/blogs/python-deep-learning-project-handwritten-digit-recognition/)\n",
    "2. [Basic text classification](https://www.tensorflow.org/tutorials/keras/text_classification)\n",
    "3. [Basic classification: Classify images of clothing](https://www.tensorflow.org/tutorials/keras/classification)"
   ]
  }
 ],
 "metadata": {
  "language_info": {
   "name": "python"
  }
 },
 "nbformat": 4,
 "nbformat_minor": 2
}
