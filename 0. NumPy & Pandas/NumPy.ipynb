{
  "cells": [
    {
      "cell_type": "markdown",
      "metadata": {
        "id": "azZFyENLZm_g"
      },
      "source": [
        "# Introduktion til NumPy\n",
        "\n",
        "[Numpy](https://numpy.org/doc/stable/index.html) er et Python-bibliotek til oprettelse og manipulation af matricer, den primære datastruktur, der bruges af maskinlæringsalgoritmer. [Matricer](https://da.wikipedia.org/wiki/Matrix_(matematik)) er matematiske objekter, der bruges til at gemme værdier i rækker og kolonner. I kender dem nok fra mange andre sprog og strukturen i en SQL database. Derfor er det også nemt at få data fra en central SQL-database og bruge det til machinelearning.\n",
        "\n",
        "I Python kaldes matricer *lists*, NumPy kalder dem *arrays*, og TensorFlow kalder dem *tensors*. Python repræsenterer matricer med datatypen [liste](https://docs.python.org/3/library/stdtypes.html#lists).\n",
        "\n",
        "NumPy er et stort bibliotek som bruges i flere grene, vi kommer ikke til at gå i dybden med NumPy, men vi skal have en grundlæggende forståelse for at kunne bruge det til resten af vores 10 dages ML kursus.\n",
        "\n",
        "Mange af operationerne kender I nok fra andre sprog, men så har I også muligheden for at vende jer lidt til Python syntaxen\n"
      ]
    },
    {
      "cell_type": "markdown",
      "metadata": {
        "id": "Ll9RWewwFwX6"
      },
      "source": [
        "## Import NumPy module\n",
        "\n",
        "Vi skal installere NumPy modulet for at kunne bruge det senere"
      ]
    },
    {
      "cell_type": "code",
      "execution_count": 5,
      "metadata": {
        "id": "guvPzSWYJGZ4"
      },
      "outputs": [],
      "source": [
        "import numpy as np"
      ]
    },
    {
      "cell_type": "markdown",
      "metadata": {
        "id": "7cT9fXS_JUpa"
      },
      "source": [
        "## Populate arrays with specific numbers\n",
        "\n",
        "Skriv `np.array` for at lave en NumPy array, med værdi som du selv vælger. Her er et eksempel med `np.array` som laver en 8-elementer langt en dimensionelt array:"
      ]
    },
    {
      "cell_type": "code",
      "execution_count": 6,
      "metadata": {
        "colab": {
          "base_uri": "https://localhost:8080/"
        },
        "id": "XxJR5xKpJbB3",
        "outputId": "1239c88e-beca-4cd2-e0d8-6e0b5a93d7a9"
      },
      "outputs": [
        {
          "name": "stdout",
          "output_type": "stream",
          "text": [
            "[1.2 2.4 3.5 4.7 6.1 7.2 8.3 9.5]\n"
          ]
        }
      ],
      "source": [
        "one_dimensional_array = np.array([1.2, 2.4, 3.5, 4.7, 6.1, 7.2, 8.3, 9.5])\n",
        "print(one_dimensional_array)"
      ]
    },
    {
      "cell_type": "markdown",
      "metadata": {
        "id": "RKywqhLTbR1M"
      },
      "source": [
        "Du kan også bruge `np.array` til at oprette en todimensionel matrix. For at oprette en todimensionel matrix skal du angive en ekstra lag af firkantede parenteser. For eksempel opretter følgende kald en 3x2 matrix:"
      ]
    },
    {
      "cell_type": "code",
      "execution_count": 7,
      "metadata": {
        "colab": {
          "base_uri": "https://localhost:8080/"
        },
        "id": "_veGj18eMCDu",
        "outputId": "e1870f86-5caa-491d-d846-5dd67e5de69d"
      },
      "outputs": [
        {
          "name": "stdout",
          "output_type": "stream",
          "text": [
            "[[ 6  5]\n",
            " [11  7]\n",
            " [ 4  8]]\n"
          ]
        }
      ],
      "source": [
        "two_dimensional_array = np.array([[6, 5], [11, 7], [4, 8]])\n",
        "print(two_dimensional_array)"
      ]
    },
    {
      "cell_type": "markdown",
      "metadata": {
        "id": "0ED7eug9CvGR"
      },
      "source": [
        "For at udfylde en matrix rene nuller, kald `np.zeros`. For at udfylde en matrix med rene ettere, kald `np.ones`.\n"
      ]
    },
    {
      "cell_type": "markdown",
      "metadata": {
        "id": "gEy_pdBoROu3"
      },
      "source": [
        "## Udfyld arrays med sekvenser af tal\n",
        "\n",
        "Du kan udfylde et array med en sekvens af tal:\n"
      ]
    },
    {
      "cell_type": "code",
      "execution_count": 8,
      "metadata": {
        "colab": {
          "base_uri": "https://localhost:8080/"
        },
        "id": "CjHfYWhdQYtO",
        "outputId": "d0792007-df8c-404b-a6d2-926540a23cd2"
      },
      "outputs": [
        {
          "name": "stdout",
          "output_type": "stream",
          "text": [
            "[ 5  6  7  8  9 10 11]\n"
          ]
        }
      ],
      "source": [
        "sequence_of_integers = np.arange(5, 12)\n",
        "print(sequence_of_integers)"
      ]
    },
    {
      "cell_type": "markdown",
      "metadata": {
        "id": "1x3OoWrPWn8S"
      },
      "source": [
        "Bemærk, at `np.arange` genererer en sekvens, der inkluderer den nedre grænse (5), men ikke den øvre grænse (12).\n",
        "Altså [5,12)\n"
      ]
    },
    {
      "cell_type": "markdown",
      "metadata": {
        "id": "aiqqxDBINAOY"
      },
      "source": [
        "## Udfyld arrays med tilfældige tal\n",
        "\n",
        "NumPy giver forskellige funktioner til at udfylde arrays med tilfældige tal inden for visse intervaller. For eksempel genererer `np.random.randint` tilfældige heltal mellem en lav og en høj værdi. Følgende kald udfylder et array med 6 elementer med tilfældige heltal mellem 50 og 100.\n",
        "\n",
        "\n"
      ]
    },
    {
      "cell_type": "code",
      "execution_count": 27,
      "metadata": {
        "colab": {
          "base_uri": "https://localhost:8080/"
        },
        "id": "tG8ao9CsNqw8",
        "outputId": "d5964845-2ef2-4f40-cba0-f65a5654d521"
      },
      "outputs": [
        {
          "name": "stdout",
          "output_type": "stream",
          "text": [
            "[[ 50  52  60]\n",
            " [ 63  89  61]\n",
            " [ 80  88  52]\n",
            " [ 67  69  62]\n",
            " [ 69  55  97]\n",
            " [ 52 100  68]]\n"
          ]
        }
      ],
      "source": [
        "random_integers_between_50_and_100 = np.random.randint(low=50, high=101, size=(6,3))\n",
        "print(random_integers_between_50_and_100)"
      ]
    },
    {
      "cell_type": "markdown",
      "metadata": {
        "id": "BSU7lMUcgRm3"
      },
      "source": [
        "Bemærk, at det højeste genererede heltal ved brug af `np.random.randint` er én mindre end argumentet `high`.\n"
      ]
    },
    {
      "cell_type": "markdown",
      "metadata": {
        "id": "lQF6-Eg0ksqE"
      },
      "source": [
        "For at oprette tilfældige decimaltal mellem 0.0 og 1.0, kald `np.random.random`. For eksempel:"
      ]
    },
    {
      "cell_type": "code",
      "execution_count": 10,
      "metadata": {
        "colab": {
          "base_uri": "https://localhost:8080/"
        },
        "id": "6Ny0eXZPk5Ax",
        "outputId": "88413ebe-16f6-4e1c-c8f1-697446612d92"
      },
      "outputs": [
        {
          "name": "stdout",
          "output_type": "stream",
          "text": [
            "[0.08864763 0.89736859 0.77758093 0.22529119 0.89719424 0.96992356]\n"
          ]
        }
      ],
      "source": [
        "random_floats_between_0_and_1 = np.random.random([6])\n",
        "print(random_floats_between_0_and_1)"
      ]
    },
    {
      "cell_type": "markdown",
      "metadata": {
        "id": "eXOdSjRlSEf6"
      },
      "source": [
        "## Matematiske operationer på NumPy-operand\n",
        "\n",
        "Hvis du ønsker at lægge to arrays sammen eller trække dem fra hinanden, kræver lineær algebra, at de to operander har de samme dimensioner. Derudover, hvis du ønsker at multiplicere to arrays, pålægger lineær algebra strenge regler for den dimensionelle kompatibilitet af operanderne. Heldigvis bruger NumPy en teknik kaldet [**broadcasting**](https://developers.google.com/machine-learning/glossary/#broadcasting) til at virtuelt udvide den mindre operand til dimensioner, der er kompatible med lineær algebra. For eksempel bruger følgende operation broadcasting til at tilføje 2.0 til værdien af hvert element i arrayet, der blev oprettet i den foregående kodecelle:\n"
      ]
    },
    {
      "cell_type": "code",
      "execution_count": 11,
      "metadata": {
        "colab": {
          "base_uri": "https://localhost:8080/"
        },
        "id": "J5E5S0wjRvQr",
        "outputId": "4340ad6e-683c-4624-c8b3-3fe66677e4e6"
      },
      "outputs": [
        {
          "name": "stdout",
          "output_type": "stream",
          "text": [
            "[2.08864763 2.89736859 2.77758093 2.22529119 2.89719424 2.96992356]\n"
          ]
        }
      ],
      "source": [
        "random_floats_between_2_and_3 = random_floats_between_0_and_1 + 2.0\n",
        "print(random_floats_between_2_and_3)"
      ]
    },
    {
      "cell_type": "markdown",
      "metadata": {
        "id": "x6K_poVDPpAg"
      },
      "source": [
        "Den følgende operation afhænger også af broadcasting for at multiplicere hvert element i et array med 3:\n"
      ]
    },
    {
      "cell_type": "code",
      "execution_count": 12,
      "metadata": {
        "colab": {
          "base_uri": "https://localhost:8080/"
        },
        "id": "tYjvXmvFPoPB",
        "outputId": "52eb7b45-89d7-41e4-f093-5a8ec3ceb025"
      },
      "outputs": [
        {
          "name": "stdout",
          "output_type": "stream",
          "text": [
            "[192 219 276 162 210 294]\n"
          ]
        }
      ],
      "source": [
        "random_integers_between_150_and_300 = random_integers_between_50_and_100 * 3\n",
        "print(random_integers_between_150_and_300)"
      ]
    },
    {
      "cell_type": "markdown",
      "metadata": {
        "id": "hfYVa8iQTaUL"
      },
      "source": [
        "## Opgave 1: Opret et lineært datasæt\n",
        "\n",
        "Dit mål er at oprette et simpelt datasæt bestående af en enkelt funktion (feature) og en etiket (label) som følger:\n",
        "\n",
        "1. Tildel en sekvens af heltal fra 6 til 20 (inklusiv) til et NumPy-array kaldet `feature`.\n",
        "2. Tildel 15 værdier til et NumPy-array kaldet `label` på følgende måde:\n",
        "\n",
        "```\n",
        "   label = (3)(feature) + 4\n",
        "```\n",
        "For eksempel skal den første værdi for `label` være:\n",
        "\n",
        "```\n",
        "  label = (3)(6) + 4 = 22\n",
        " ```"
      ]
    },
    {
      "cell_type": "code",
      "execution_count": 15,
      "metadata": {
        "colab": {
          "base_uri": "https://localhost:8080/",
          "height": 140
        },
        "id": "qK9UF2rUc3Y_",
        "outputId": "f41d4b90-4714-429f-a945-00166002d41f"
      },
      "outputs": [
        {
          "name": "stdout",
          "output_type": "stream",
          "text": [
            "[ 6  7  8  9 10 11 12 13 14 15 16 17 18 19 20]\n",
            "[22 25 28 31 34 37 40 43 46 49 52 55 58 61 64]\n"
          ]
        }
      ],
      "source": [
        "feature = np.arange(6,21)\n",
        "print(feature)\n",
        "label = (3 * feature)+4\n",
        "print(label)"
      ]
    },
    {
      "cell_type": "code",
      "execution_count": 13,
      "metadata": {
        "cellView": "form",
        "id": "KjtIAYvMTPGl"
      },
      "outputs": [
        {
          "name": "stdout",
          "output_type": "stream",
          "text": [
            "[ 6  7  8  9 10 11 12 13 14 15 16 17 18 19 20]\n",
            "[22 25 28 31 34 37 40 43 46 49 52 55 58 61 64]\n"
          ]
        }
      ],
      "source": [
        "#@title Double-click to see a possible solution to Task 1.\n",
        "feature = np.arange(6, 21)\n",
        "print(feature)\n",
        "label = (feature * 3) + 4\n",
        "print(label)"
      ]
    },
    {
      "cell_type": "markdown",
      "metadata": {
        "id": "RNsjGYRj87PB"
      },
      "source": [
        "## Opgave 2: Tilføj lidt støj til datasættet\n",
        "\n",
        "For at gøre dit datasæt lidt mere realistisk, skal du indsætte lidt tilfældig støj i hvert element i det `label`-array, du allerede har oprettet. Præcist sagt, skal du ændre hver værdi, der er tildelt `label`, ved at tilføje en *forskellig* tilfældig decimalværdi mellem -2 og +2.\n",
        "\n",
        "Stol ikke på broadcasting. Opret i stedet et `noise`-array med samme dimension som `label`.\n"
      ]
    },
    {
      "cell_type": "code",
      "execution_count": 25,
      "metadata": {
        "id": "HF-flFfs9r0q"
      },
      "outputs": [
        {
          "name": "stdout",
          "output_type": "stream",
          "text": [
            "[-1.26082134 -1.45360684  1.22030434 -0.06422645  0.44565233 -0.50308463\n",
            "  0.26355948 -1.38748345 -1.20483372  0.11294692 -0.94286324  0.19363891\n",
            "  0.9783239  -0.14500914  0.5764711 ]\n",
            "[20.73917866 23.54639316 29.22030434 30.93577355 34.44565233 36.49691537\n",
            " 40.26355948 41.61251655 44.79516628 49.11294692 51.05713676 55.19363891\n",
            " 58.9783239  60.85499086 64.5764711 ]\n"
          ]
        }
      ],
      "source": [
        "noise = (np.random.random([15]) * 4) - 2\n",
        "print(noise)\n",
        "label = label + noise\n",
        "print(label)"
      ]
    },
    {
      "cell_type": "code",
      "execution_count": null,
      "metadata": {
        "id": "7chgYKrC93np"
      },
      "outputs": [],
      "source": [
        "#Løsning til Task 2\n",
        "\n",
        "noise = (np.random.random([15]) * 4) - 2\n",
        "print(noise)\n",
        "label = label + noise\n",
        "print(label)"
      ]
    }
  ],
  "metadata": {
    "colab": {
      "collapsed_sections": [
        "azZFyENLZm_g",
        "DeKRcpe49VnV",
        "jY-QAVIhcDDR",
        "r843-s6ZcF8C"
      ],
      "provenance": []
    },
    "kernelspec": {
      "display_name": "Python 3",
      "name": "python3"
    },
    "language_info": {
      "codemirror_mode": {
        "name": "ipython",
        "version": 3
      },
      "file_extension": ".py",
      "mimetype": "text/x-python",
      "name": "python",
      "nbconvert_exporter": "python",
      "pygments_lexer": "ipython3",
      "version": "3.11.7"
    }
  },
  "nbformat": 4,
  "nbformat_minor": 0
}
