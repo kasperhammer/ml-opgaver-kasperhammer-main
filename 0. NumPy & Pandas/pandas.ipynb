{
  "cells": [
    {
      "cell_type": "markdown",
      "metadata": {
        "id": "DeKRcpe49VnV"
      },
      "source": [
        "# Introduktion til Pandas DataFrame\n",
        "\n",
        "Her introducerer vi [**DataFrames**](https://pandas.pydata.org/pandas-docs/stable/reference/api/pandas.DataFrame.html), som er den centrale datastruktur i pandas API.\n",
        "\n",
        "En DataFrame ligner en hukommelsesskabelon. Ligesom en skabelon:\n",
        "\n",
        "  * En DataFrame opbevarer data i celler.\n",
        "  * En DataFrame har navngivne kolonner (normalt) og nummererede rækker.\n",
        "\n",
        "Som med NumPy kommer vi ikke til at gå i dybden med Pandas, men vi skal have en grundlæggende forståelse for at kunne bruge det til resten af vores 10 dages ML kursus.\n"
      ]
    },
    {
      "cell_type": "markdown",
      "metadata": {
        "id": "AByfHsr8H_sU"
      },
      "source": [
        "## Importér NumPy- og pandas-moduler\n",
        "\n",
        "Kør følgende kode for at importere NumPy- og pandas-modulerne.\n"
      ]
    },
    {
      "cell_type": "code",
      "execution_count": 1,
      "metadata": {
        "id": "ZmL0l551Iibq"
      },
      "outputs": [],
      "source": [
        "import numpy as np\n",
        "import pandas as pd"
      ]
    },
    {
      "cell_type": "markdown",
      "metadata": {
        "id": "RutIK84wIp1S"
      },
      "source": [
        "## Oprettelse af en DataFrame\n",
        "\n",
        "Den følgende kodecelle opretter en simpel DataFrame, der indeholder 10 celler, organiseret som følger:\n",
        "\n",
        "  * 5 rækker\n",
        "  * 2 kolonner, en kaldet `temperatur` og den anden kaldet `aktivitet`\n",
        "\n",
        "Den følgende kodecelle instantierer en `pd.DataFrame`-klasse for at generere en DataFrame. Klassen tager to argumenter:\n",
        "\n",
        "  * Det første argument giver dataene til at udfylde de 10 celler. Kodecellen kalder `np.array` for at generere en 5x2 NumPy-array.\n",
        "  * Det andet argument identificerer navnene på de to kolonner.\n",
        "\n",
        "**Bemærk**: Redefiner ikke variabler i den følgende kodecelle. Efterfølgende kodeceller bruger disse variabler."
      ]
    },
    {
      "cell_type": "code",
      "execution_count": 2,
      "metadata": {
        "id": "FNZsPOgSD4F2"
      },
      "outputs": [
        {
          "name": "stdout",
          "output_type": "stream",
          "text": [
            "   temperature  activity\n",
            "0            0         3\n",
            "1           10         7\n",
            "2           20         9\n",
            "3           30        14\n",
            "4           40        15\n"
          ]
        }
      ],
      "source": [
        "# Create and populate a 5x2 NumPy array.\n",
        "my_data = np.array([[0, 3], [10, 7], [20, 9], [30, 14], [40, 15]])\n",
        "\n",
        "# Create a Python list that holds the names of the two columns.\n",
        "my_column_names = ['temperature', 'activity']\n",
        "\n",
        "# Create a DataFrame.\n",
        "my_dataframe = pd.DataFrame(data=my_data, columns=my_column_names)\n",
        "\n",
        "# Print the entire DataFrame\n",
        "print(my_dataframe)"
      ]
    },
    {
      "cell_type": "markdown",
      "metadata": {
        "id": "NJ-I78_7OFVs"
      },
      "source": [
        "## Tilføjelse af en ny kolonne til en DataFrame\n",
        "\n",
        "Du kan tilføje en ny kolonne til en eksisterende pandas DataFrame ved blot at tildele værdier til et nyt kolonnenavn. For eksempel opretter den følgende kode en tredje kolonne kaldet `tilpasset` i `min_dataframe`:"
      ]
    },
    {
      "cell_type": "code",
      "execution_count": 3,
      "metadata": {
        "colab": {
          "base_uri": "https://localhost:8080/"
        },
        "id": "JEBZyMdEOngx",
        "outputId": "9d4caccc-0b2a-4c66-e026-2cb0292a59bc"
      },
      "outputs": [
        {
          "name": "stdout",
          "output_type": "stream",
          "text": [
            "   temperature  activity  adjusted\n",
            "0            0         3         5\n",
            "1           10         7         9\n",
            "2           20         9        11\n",
            "3           30        14        16\n",
            "4           40        15        17\n"
          ]
        }
      ],
      "source": [
        "# Create a new column named adjusted.\n",
        "my_dataframe[\"adjusted\"] = my_dataframe[\"activity\"] + 2\n",
        "\n",
        "# Print the entire DataFrame\n",
        "print(my_dataframe)"
      ]
    },
    {
      "cell_type": "markdown",
      "metadata": {
        "id": "RJ2aziCR5th2"
      },
      "source": [
        "## Specificering af et udsnit af en DataFrame\n",
        "\n",
        "Pandas giver flere måder at isolere specifikke rækker, kolonner, slices eller celler i en DataFrame på."
      ]
    },
    {
      "cell_type": "code",
      "execution_count": 8,
      "metadata": {
        "id": "RIO91Fu65s6k"
      },
      "outputs": [
        {
          "name": "stdout",
          "output_type": "stream",
          "text": [
            "Rows #0, #1, and #2:\n",
            "   temperature  activity  adjusted\n",
            "0            0         3         5\n",
            "1           10         7         9\n",
            "2           20         9        11 \n",
            "\n",
            "Row #2:\n",
            "   temperature  activity  adjusted\n",
            "2           20         9        11 \n",
            "\n",
            "Rows #1, #2, and #3:\n",
            "   temperature  activity  adjusted\n",
            "3           30        14        16\n",
            "4           40        15        17 \n",
            "\n",
            "Column 'temperature':\n",
            "0     0\n",
            "1    10\n",
            "2    20\n",
            "3    30\n",
            "4    40\n",
            "Name: temperature, dtype: int32\n"
          ]
        }
      ],
      "source": [
        "print(\"Rows #0, #1, and #2:\")\n",
        "print(my_dataframe.head(3), '\\n')\n",
        "\n",
        "print(\"Row #2:\")\n",
        "print(my_dataframe.iloc[[2]], '\\n')\n",
        "\n",
        "print(\"Rows #1, #2, and #3:\")\n",
        "print(my_dataframe[3:5], '\\n')\n",
        "\n",
        "print(\"Column 'temperature':\")\n",
        "print(my_dataframe['temperature'])"
      ]
    },
    {
      "cell_type": "markdown",
      "metadata": {
        "id": "_cL_NxAdZzdS"
      },
      "source": [
        "## Opgave 1: Opret en DataFrame\n",
        "\n",
        "Gør følgende:\n",
        "\n",
        "1. Opret en 3x4 (3 rækker x 4 kolonner) pandas DataFrame, hvor kolonnerne har navnene `Eleanor`, `Chidi`, `Tahani` og `Jason`. Udfyld hver af de 12 celler i DataFrame med et tilfældigt heltal mellem 0 og 100.\n",
        "\n",
        "2. Output følgende:\n",
        "\n",
        "   * hele DataFrame\n",
        "   * værdien i cellen i række #1 i kolonnen `Eleanor`\n",
        "\n",
        "3. Opret en femte kolonne kaldet `Janet`, som udfyldes med række-for-række-summen af `Tahani` og `Jason`.\n",
        "\n",
        "I skal bruge kode fra den tidligere del omkring NumPy\n",
        "\n"
      ]
    },
    {
      "cell_type": "code",
      "execution_count": 22,
      "metadata": {
        "id": "cIJEv08DMSxj"
      },
      "outputs": [
        {
          "name": "stdout",
          "output_type": "stream",
          "text": [
            "   Eleanor  Chidi  Tahani  Jason\n",
            "0       39     31      62     48\n",
            "1       55     58      52     14\n",
            "2       79     73       0     37\n",
            "Column 'Eleanor':\n",
            "0    39\n",
            "1    55\n",
            "2    79\n",
            "Name: Eleanor, dtype: int32\n",
            "   Eleanor  Chidi  Tahani  Jason  Janet\n",
            "0       39     31      62     48    110\n",
            "1       55     58      52     14     66\n",
            "2       79     73       0     37     37\n"
          ]
        }
      ],
      "source": [
        "\n",
        "# Create a Python list that holds the names of the four columns.\n",
        "my_column_names = ['Eleanor', 'Chidi', 'Tahani', 'Jason']\n",
        "\n",
        "# Create a 3x4 numpy array, each cell populated with a random integer.\n",
        "my_data = np.random.randint(low=0, high=101, size=(3, 4))\n",
        "\n",
        "# Create a DataFrame.\n",
        "df = pd.DataFrame(data=my_data, columns=my_column_names)\n",
        "\n",
        "# Print the entire DataFrame\n",
        "print(df)\n",
        "print(\"Column 'Eleanor':\")\n",
        "print(df['Eleanor'].head(1))\n",
        "df['Janet'] = df['Tahani'] + df['Jason']\n",
        "print(df)"
      ]
    },
    {
      "cell_type": "code",
      "execution_count": null,
      "metadata": {
        "cellView": "form",
        "colab": {
          "base_uri": "https://localhost:8080/"
        },
        "id": "dPmpVM_8IoBO",
        "outputId": "5a955862-cb02-491e-dded-b827014f210d"
      },
      "outputs": [],
      "source": [
        "#@title Double-click for a solution to Task 1.\n",
        "\n",
        "# Create a Python list that holds the names of the four columns.\n",
        "my_column_names = ['Eleanor', 'Chidi', 'Tahani', 'Jason']\n",
        "\n",
        "# Create a 3x4 numpy array, each cell populated with a random integer.\n",
        "my_data = np.random.randint(low=0, high=101, size=(3, 4))\n",
        "\n",
        "# Create a DataFrame.\n",
        "df = pd.DataFrame(data=my_data, columns=my_column_names)\n",
        "\n",
        "# Print the entire DataFrame\n",
        "print(df)\n",
        "\n",
        "# Print the value in row #1 of the Eleanor column.\n",
        "print(\"\\nSecond row of the Eleanor column: %d\\n\" % df['Eleanor'][1])\n",
        "\n",
        "# Create a column named Janet whose contents are the sum\n",
        "# of two other columns.\n",
        "df['Janet'] = df['Tahani'] + df['Jason']\n",
        "\n",
        "# Print the enhanced DataFrame\n",
        "print(df)"
      ]
    },
    {
      "cell_type": "markdown",
      "metadata": {
        "id": "bh7MeyafemNL"
      },
      "source": [
        "## Kopiering af en DataFrame\n",
        "Pandas giver to forskellige måder at kopiere en DataFrame på:\n",
        "\n",
        "* **Reference.** Hvis du tildeler en DataFrame til en ny variabel, vil eventuelle ændringer i DataFrame eller den nye variabel afspejles i den anden.\n",
        "* **Kopiering.** Hvis du kalder metoden `pd.DataFrame.copy`, opretter du en ægte uafhængig kopi. Ændringer i den originale DataFrame eller kopien vil ikke blive afspejlet i den anden.\n",
        "\n",
        "Forskellen er subtil, men vigtig.\n",
        "I kender det nok fra at have arbejde med arrays i andre sprog, hvor der er forskel på om det peger på det samme sted i memory eller om den laver en helt ny kopi!"
      ]
    },
    {
      "cell_type": "code",
      "execution_count": 23,
      "metadata": {
        "id": "YDu2VotPgzsW"
      },
      "outputs": [
        {
          "name": "stdout",
          "output_type": "stream",
          "text": [
            "Experiment with a reference:\n",
            "  Starting value of df: 14\n",
            "  Starting value of reference_to_df: 14\n",
            "\n",
            "  Updated df: 19\n",
            "  Updated reference_to_df: 19\n",
            "\n",
            "\n",
            "Experiment with a true copy:\n",
            "  Starting value of my_dataframe: 7\n",
            "  Starting value of copy_of_my_dataframe: 7\n",
            "\n",
            "  Updated my_dataframe: 10\n",
            "  copy_of_my_dataframe does not get updated: 7\n"
          ]
        }
      ],
      "source": [
        "# Create a reference by assigning my_dataframe to a new variable.\n",
        "print(\"Experiment with a reference:\")\n",
        "reference_to_df = df\n",
        "\n",
        "# Print the starting value of a particular cell.\n",
        "print(\"  Starting value of df: %d\" % df['Jason'][1])\n",
        "print(\"  Starting value of reference_to_df: %d\\n\" % reference_to_df['Jason'][1])\n",
        "\n",
        "# Modify a cell in df.\n",
        "df.at[1, 'Jason'] = df['Jason'][1] + 5\n",
        "print(\"  Updated df: %d\" % df['Jason'][1])\n",
        "print(\"  Updated reference_to_df: %d\\n\\n\" % reference_to_df['Jason'][1])\n",
        "\n",
        "# Create a true copy of my_dataframe\n",
        "print(\"Experiment with a true copy:\")\n",
        "copy_of_my_dataframe = my_dataframe.copy()\n",
        "\n",
        "# Print the starting value of a particular cell.\n",
        "print(\"  Starting value of my_dataframe: %d\" % my_dataframe['activity'][1])\n",
        "print(\"  Starting value of copy_of_my_dataframe: %d\\n\" % copy_of_my_dataframe['activity'][1])\n",
        "\n",
        "# Modify a cell in df.\n",
        "my_dataframe.at[1, 'activity'] = my_dataframe['activity'][1] + 3\n",
        "print(\"  Updated my_dataframe: %d\" % my_dataframe['activity'][1])\n",
        "print(\"  copy_of_my_dataframe does not get updated: %d\" % copy_of_my_dataframe['activity'][1])"
      ]
    }
  ],
  "metadata": {
    "colab": {
      "collapsed_sections": [
        "azZFyENLZm_g",
        "DeKRcpe49VnV",
        "jY-QAVIhcDDR",
        "r843-s6ZcF8C"
      ],
      "provenance": []
    },
    "kernelspec": {
      "display_name": "Python 3",
      "name": "python3"
    },
    "language_info": {
      "codemirror_mode": {
        "name": "ipython",
        "version": 3
      },
      "file_extension": ".py",
      "mimetype": "text/x-python",
      "name": "python",
      "nbconvert_exporter": "python",
      "pygments_lexer": "ipython3",
      "version": "3.11.0"
    }
  },
  "nbformat": 4,
  "nbformat_minor": 0
}
